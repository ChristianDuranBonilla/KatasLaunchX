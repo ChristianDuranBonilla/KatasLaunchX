{
 "cells": [
  {
   "cell_type": "markdown",
   "metadata": {},
   "source": [
    "## Expresiones de prueba"
   ]
  },
  {
   "cell_type": "code",
   "execution_count": 1,
   "metadata": {},
   "outputs": [],
   "source": [
    "a = 97\n",
    "b = 55\n",
    "# test expression / expresión de prueba\n",
    "if a < b:\n",
    "    # statement to be run / instrucción a ejecutar\n",
    "    print(b)"
   ]
  },
  {
   "cell_type": "code",
   "execution_count": 4,
   "metadata": {},
   "outputs": [
    {
     "name": "stdout",
     "output_type": "stream",
     "text": [
      "93\n"
     ]
    }
   ],
   "source": [
    "# Deduzco que el resultado es true, y va a imprimir el valor de \"a = 93\"\n",
    "a = 93\n",
    "b = 27\n",
    "if a >= b:\n",
    "    print(a)"
   ]
  },
  {
   "cell_type": "markdown",
   "metadata": {},
   "source": [
    "## Ejercicio - Escribir declaraciones `if`, `else`, y `elif`\n"
   ]
  },
  {
   "cell_type": "code",
   "execution_count": 11,
   "metadata": {},
   "outputs": [
    {
     "name": "stdout",
     "output_type": "stream",
     "text": [
      "!ADVERTENCIA!\n"
     ]
    }
   ],
   "source": [
    "velocidad = 49\n",
    "advertencia = 25\n",
    "if velocidad > advertencia:\n",
    "    print(\"!ADVERTENCIA!\")\n",
    "else:\n",
    "    print(\"Sin peligro, solo un asteriode a \"+str(velocidad)+\" km/s\")"
   ]
  },
  {
   "cell_type": "code",
   "execution_count": 14,
   "metadata": {},
   "outputs": [
    {
     "name": "stdout",
     "output_type": "stream",
     "text": [
      "Solín, solito\n"
     ]
    }
   ],
   "source": [
    "velocidad = 19\n",
    "if velocidad > 20:\n",
    "    print(\"Mira un asteroide bonito y panzón\")\n",
    "elif velocidad == 20:\n",
    "    print(\"Mira un asteroide bonito y panzón\")\n",
    "elif velocidad == 21:\n",
    "    print(\"Mira un asteroide bonito y panzón\")\n",
    "elif velocidad == 22:\n",
    "    print(\"Mira un asteroide bonito y panzón\")\n",
    "elif velocidad == 23:\n",
    "    print(\"Mira un asteroide bonito y panzón\")\n",
    "elif velocidad == 24:\n",
    "    print(\"Mira un asteroide bonito y panzón\")\n",
    "else:\n",
    "    print(\"Solín, solito\")"
   ]
  },
  {
   "cell_type": "markdown",
   "metadata": {},
   "source": [
    "## Ejercicio: Uso de operadores `and` y `or` "
   ]
  },
  {
   "cell_type": "code",
   "execution_count": 16,
   "metadata": {},
   "outputs": [
    {
     "name": "stdout",
     "output_type": "stream",
     "text": [
      "Mira un asteroide bonito y panzón\n"
     ]
    }
   ],
   "source": [
    "asteroide = 30\n",
    "velocidad = 25\n",
    "if asteroide > 25 and asteroide <1000 and advertencia >25:\n",
    "    print(\"!ADVERTENCIA!\")\n",
    "elif velocidad >= 20:\n",
    "    print(\"Mira un asteroide bonito y panzón\")\n",
    "elif asteroide <= 25:\n",
    "    print(\"Mira un asteroide bonito y panzón\")\n",
    "else:\n",
    "    print(\"Solín, solito\")"
   ]
  }
 ],
 "metadata": {
  "interpreter": {
   "hash": "dc3d30e35f9f561365c468ef4bda3969a5dc759bb3240f525725481f89dcf988"
  },
  "kernelspec": {
   "display_name": "Python 3.10.2 64-bit",
   "language": "python",
   "name": "python3"
  },
  "language_info": {
   "codemirror_mode": {
    "name": "ipython",
    "version": 3
   },
   "file_extension": ".py",
   "mimetype": "text/x-python",
   "name": "python",
   "nbconvert_exporter": "python",
   "pygments_lexer": "ipython3",
   "version": "3.10.2"
  },
  "orig_nbformat": 4
 },
 "nbformat": 4,
 "nbformat_minor": 2
}
